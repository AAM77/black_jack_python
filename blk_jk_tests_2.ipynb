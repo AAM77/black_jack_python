{
 "cells": [
  {
   "cell_type": "code",
   "execution_count": 20,
   "metadata": {},
   "outputs": [],
   "source": [
    "class Game():\n",
    "\n",
    "    # need a method to track players\n",
    "    # need a method to track current player\n",
    "\n",
    "    players = ['Player', 'Dealer']\n",
    "\n",
    "\n",
    "    cards  = {\n",
    "    'ace':1,\n",
    "    'two':2,\n",
    "    'three':3,\n",
    "    'four':4,\n",
    "    'five':5,\n",
    "    'six':6,\n",
    "    'seven':7,\n",
    "    'eight':8,\n",
    "    'nine':9,\n",
    "    'ten':10,\n",
    "    'jack':10,\n",
    "    'queen':10,\n",
    "    'king':10\n",
    "    }\n",
    "\n",
    "    suits = [\n",
    "    'clubs',\n",
    "    'diamonds',\n",
    "    'hearts',\n",
    "    'spades'\n",
    "    ]\n",
    "\n",
    "    def __init__(self):\n",
    "        self.player_cards = []\n",
    "        self.dealer_cards = []\n",
    "        self.deck = self.generate_deck()\n",
    "        self.deal_cards()\n",
    "        self.display_table()\n",
    "\n",
    "    # Generates a new deck per game\n",
    "    def generate_deck(self):\n",
    "        deck = []\n",
    "        for suit in Game.suits:\n",
    "            for key,value in Game.cards.items():\n",
    "                deck.append((key,value,suit))\n",
    "\n",
    "        self.shuffle_deck(deck)\n",
    "        return deck\n",
    "\n",
    "    # Shuffles the deck\n",
    "    def shuffle_deck(self, deck):\n",
    "        from random import shuffle\n",
    "        return shuffle(deck)\n",
    "\n",
    "\n",
    "    # Deals out two cards to each player\n",
    "    def deal_cards(self):\n",
    "        self.player_cards.append(self.deck.pop(0))\n",
    "        self.dealer_cards.append(self.deck.pop(0))\n",
    "        self.player_cards.append(self.deck.pop(0))\n",
    "        self.dealer_cards.append(self.deck.pop(0))\n",
    "\n",
    "\n",
    "    # Deal a card from the top of the deck\n",
    "    def deal_card(self):\n",
    "        return self.deck.pop(0)\n",
    "\n",
    "\n",
    "    # Display the current table\n",
    "    def display_table(self):\n",
    "        dc1 = self.dealer_cards[0]\n",
    "        dc2 = self.dealer_cards[1]\n",
    "\n",
    "        pc1 = self.player_cards[0]\n",
    "        pc2 = self.player_cards[1]\n",
    "        print(f'''\n",
    "\n",
    "        |||||||||||||||||||||||||||||||||||||||||||||||||||||||||\n",
    "                                   DEALER\n",
    "\n",
    "                                |{dc1[0]} of {dc1[2]}|\n",
    "                                |{dc2[0]} of {dc2[2]}|\n",
    "\n",
    "\n",
    "\n",
    "\n",
    "                                    PLAYER\n",
    "\n",
    "                                |{pc1[0]} of {pc1[2]}|\n",
    "                                |{pc2[0]} of {pc2[2]}|\n",
    "\n",
    "\n",
    "        |||||||||||||||||||||||||||||||||||||||||||||||||||||||||\n",
    "\n",
    "\n",
    "\n",
    "        ''')\n",
    "        \n",
    "    def cards_total(self, cards):\n",
    "        total = 0\n",
    "        for card in cards:\n",
    "            if card[0] == 'ace':\n",
    "                # CHECK IF CURRENT PLAYER IS DEALER OR PLAYER\n",
    "                    # IF DEALER:\n",
    "                        # Randomly choose 1 or 11\n",
    "                    # ELSE:\n",
    "                        # trigger ask player to input 1 or 11\n",
    "                        # then, total += int(user_input)\n",
    "                total += int(input(\"Do you want Ace to be 1 or 11?\"))\n",
    "            else:\n",
    "                total += card[1]\n",
    "        return total\n",
    "\n",
    "\n",
    "\n",
    "\n",
    "    # Checks the sum of the current_player's cards\n",
    "    def check_sum(self):\n",
    "        \n",
    "\n",
    "        if cards_total(self.player_cards) > 21:\n",
    "            print(\"Player loses\")\n",
    "        elif cards_total(self.player_cards) == 21:\n",
    "            # go to the next turn\n",
    "            pass\n",
    "        elif cards_total(self.player_cards) < 21:\n",
    "            # ask the player if s/he would like to hit or stay\n",
    "            print(\"Do you want to hit or stay?\")\n",
    "            pass\n"
   ]
  },
  {
   "cell_type": "code",
   "execution_count": 17,
   "metadata": {},
   "outputs": [
    {
     "name": "stdout",
     "output_type": "stream",
     "text": [
      "\n",
      "\n",
      "        |||||||||||||||||||||||||||||||||||||||||||||||||||||||||\n",
      "                                   DEALER\n",
      "\n",
      "                                |ten of clubs|\n",
      "                                |four of spades|\n",
      "\n",
      "\n",
      "\n",
      "\n",
      "                                    PLAYER\n",
      "\n",
      "                                |eight of diamonds|\n",
      "                                |ace of spades|\n",
      "\n",
      "\n",
      "        |||||||||||||||||||||||||||||||||||||||||||||||||||||||||\n",
      "\n",
      "\n",
      "\n",
      "        \n"
     ]
    }
   ],
   "source": [
    "game1 = Game()"
   ]
  },
  {
   "cell_type": "code",
   "execution_count": 18,
   "metadata": {},
   "outputs": [
    {
     "name": "stdout",
     "output_type": "stream",
     "text": [
      "Do you want Ace to be 1 or 11?11\n"
     ]
    },
    {
     "data": {
      "text/plain": [
       "19"
      ]
     },
     "execution_count": 18,
     "metadata": {},
     "output_type": "execute_result"
    }
   ],
   "source": [
    "game1.cards_total(game1.player_cards)"
   ]
  },
  {
   "cell_type": "code",
   "execution_count": 19,
   "metadata": {},
   "outputs": [
    {
     "data": {
      "text/plain": [
       "14"
      ]
     },
     "execution_count": 19,
     "metadata": {},
     "output_type": "execute_result"
    }
   ],
   "source": [
    "game1.cards_total(game1.dealer_cards)"
   ]
  },
  {
   "cell_type": "code",
   "execution_count": null,
   "metadata": {},
   "outputs": [],
   "source": []
  }
 ],
 "metadata": {
  "kernelspec": {
   "display_name": "Python 3",
   "language": "python",
   "name": "python3"
  },
  "language_info": {
   "codemirror_mode": {
    "name": "ipython",
    "version": 3
   },
   "file_extension": ".py",
   "mimetype": "text/x-python",
   "name": "python",
   "nbconvert_exporter": "python",
   "pygments_lexer": "ipython3",
   "version": "3.7.1"
  }
 },
 "nbformat": 4,
 "nbformat_minor": 2
}
