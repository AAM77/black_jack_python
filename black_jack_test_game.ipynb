{
 "cells": [
  {
   "cell_type": "code",
   "execution_count": 78,
   "metadata": {},
   "outputs": [],
   "source": [
    "class Player():\n",
    "\n",
    "    def __init__(self, bank_roll):\n",
    "        self.bank_roll = bank_roll\n",
    "\n",
    "\n",
    "    def place_bet(self):\n",
    "        try:\n",
    "            amount = int(input(\"How much do you want to bet? \"))\n",
    "            if (type(amount) == int) and (amount >= 0):\n",
    "                return amount\n",
    "        except:\n",
    "            print(\"Invalid entry. Must be a number.\")\n",
    "            self.place_bet()\n",
    "            \n",
    "            \n",
    "    def hit_or_stay(self):\n",
    "        choice = input(\"Do you want to hit or stay?\").lower()\n",
    "        if choice == 'hit':\n",
    "            return True\n",
    "        elif choice == 'stay':\n",
    "            return False\n",
    "        else:\n",
    "            print(\"Invalid entry.\")\n",
    "            self.hit_or_stay()\n",
    "            \n",
    "    def type_int(self,val):\n",
    "        try:\n",
    "            int(val)\n",
    "        except:\n",
    "            print(\"Invalid entry.\")\n",
    "        else:\n",
    "            return val\n",
    "            \n",
    "    def one_or_eleven(self):\n",
    "        ace_value = input(\"Do you want to use it as a 1 or 11?\")\n",
    "        if self.type_int(ace_value):\n",
    "            ace = int(ace_value)\n",
    "            if (ace == 1) or (ace == 11):\n",
    "                return ace\n",
    "            else:\n",
    "                print(\"Must be a 1 or 11.\")\n",
    "                self.one_or_eleven()\n",
    "        else:\n",
    "            print(\"Must be a 1 or 11.\")\n",
    "            self.one_or_eleven()\n",
    "            \n",
    "                \n",
    "            \n",
    "            \n",
    "        \n",
    "    "
   ]
  },
  {
   "cell_type": "code",
   "execution_count": 79,
   "metadata": {},
   "outputs": [],
   "source": [
    "one = Player(100)"
   ]
  },
  {
   "cell_type": "code",
   "execution_count": 29,
   "metadata": {},
   "outputs": [
    {
     "name": "stdout",
     "output_type": "stream",
     "text": [
      "How much do you want to bet? a\n",
      "Invalid entry. Must be a number.\n",
      "How much do you want to bet? asds\n",
      "Invalid entry. Must be a number.\n",
      "How much do you want to bet? g\n",
      "Invalid entry. Must be a number.\n",
      "How much do you want to bet? sd\n",
      "Invalid entry. Must be a number.\n",
      "How much do you want to bet? 1ads\n",
      "Invalid entry. Must be a number.\n",
      "How much do you want to bet? asd2\n",
      "Invalid entry. Must be a number.\n",
      "How much do you want to bet? 2.34\n",
      "Invalid entry. Must be a number.\n",
      "How much do you want to bet? 0\n"
     ]
    }
   ],
   "source": [
    "one.place_bet()"
   ]
  },
  {
   "cell_type": "code",
   "execution_count": null,
   "metadata": {},
   "outputs": [],
   "source": []
  },
  {
   "cell_type": "code",
   "execution_count": 9,
   "metadata": {},
   "outputs": [
    {
     "data": {
      "text/plain": [
       "int"
      ]
     },
     "execution_count": 9,
     "metadata": {},
     "output_type": "execute_result"
    }
   ],
   "source": [
    "type(4)"
   ]
  },
  {
   "cell_type": "code",
   "execution_count": 10,
   "metadata": {},
   "outputs": [
    {
     "data": {
      "text/plain": [
       "float"
      ]
     },
     "execution_count": 10,
     "metadata": {},
     "output_type": "execute_result"
    }
   ],
   "source": [
    "type(-3.3)"
   ]
  },
  {
   "cell_type": "code",
   "execution_count": null,
   "metadata": {},
   "outputs": [],
   "source": []
  },
  {
   "cell_type": "code",
   "execution_count": null,
   "metadata": {},
   "outputs": [],
   "source": []
  },
  {
   "cell_type": "code",
   "execution_count": 11,
   "metadata": {},
   "outputs": [
    {
     "name": "stdout",
     "output_type": "stream",
     "text": [
      "Do you want to hit or stay?asd\n",
      "Invalid entry.\n",
      "Do you want to hit or stay?afsf\n",
      "Invalid entry.\n",
      "Do you want to hit or stay?sdas\n",
      "Invalid entry.\n",
      "Do you want to hit or stay?hit\n"
     ]
    }
   ],
   "source": [
    "one.hit_or_stay()"
   ]
  },
  {
   "cell_type": "code",
   "execution_count": 12,
   "metadata": {},
   "outputs": [
    {
     "name": "stdout",
     "output_type": "stream",
     "text": [
      "Do you want to hit or stay?adksd\n",
      "Invalid entry.\n",
      "Do you want to hit or stay?hitt\n",
      "Invalid entry.\n",
      "Do you want to hit or stay?staya\n",
      "Invalid entry.\n",
      "Do you want to hit or stay?stay\n"
     ]
    }
   ],
   "source": [
    "one.hit_or_stay()"
   ]
  },
  {
   "cell_type": "code",
   "execution_count": 15,
   "metadata": {},
   "outputs": [
    {
     "data": {
      "text/plain": [
       "100"
      ]
     },
     "execution_count": 15,
     "metadata": {},
     "output_type": "execute_result"
    }
   ],
   "source": [
    "one.bank_roll"
   ]
  },
  {
   "cell_type": "code",
   "execution_count": 17,
   "metadata": {},
   "outputs": [
    {
     "name": "stdout",
     "output_type": "stream",
     "text": [
      "Do you want to hit or stay?hit\n"
     ]
    },
    {
     "data": {
      "text/plain": [
       "True"
      ]
     },
     "execution_count": 17,
     "metadata": {},
     "output_type": "execute_result"
    }
   ],
   "source": [
    "one.hit_or_stay()"
   ]
  },
  {
   "cell_type": "code",
   "execution_count": 18,
   "metadata": {},
   "outputs": [
    {
     "name": "stdout",
     "output_type": "stream",
     "text": [
      "Do you want to hit or stay?hit\n",
      "ASKED TO HIT A CARD\n"
     ]
    }
   ],
   "source": [
    "if one.hit_or_stay():\n",
    "    print(\"ASKED TO HIT A CARD\")\n",
    "else:\n",
    "    print(\"ASKED TO STAY\")"
   ]
  },
  {
   "cell_type": "code",
   "execution_count": 19,
   "metadata": {},
   "outputs": [
    {
     "name": "stdout",
     "output_type": "stream",
     "text": [
      "Do you want to hit or stay?stay\n",
      "ASKED TO STAY\n"
     ]
    }
   ],
   "source": [
    "if one.hit_or_stay():\n",
    "    print(\"ASKED TO HIT A CARD\")\n",
    "else:\n",
    "    print(\"ASKED TO STAY\")"
   ]
  },
  {
   "cell_type": "code",
   "execution_count": 80,
   "metadata": {},
   "outputs": [
    {
     "name": "stdout",
     "output_type": "stream",
     "text": [
      "Do you want to use it as a 1 or 11?a\n",
      "Invalid entry.\n",
      "Must be a 1 or 11.\n",
      "Do you want to use it as a 1 or 11?f\n",
      "Invalid entry.\n",
      "Must be a 1 or 11.\n",
      "Do you want to use it as a 1 or 11?111\n",
      "Must be a 1 or 11.\n",
      "Do you want to use it as a 1 or 11?12\n",
      "Must be a 1 or 11.\n",
      "Do you want to use it as a 1 or 11?3.4\n",
      "Invalid entry.\n",
      "Must be a 1 or 11.\n",
      "Do you want to use it as a 1 or 11?1.0\n",
      "Invalid entry.\n",
      "Must be a 1 or 11.\n",
      "Do you want to use it as a 1 or 11?1\n"
     ]
    }
   ],
   "source": [
    "one.one_or_eleven()"
   ]
  },
  {
   "cell_type": "code",
   "execution_count": 81,
   "metadata": {},
   "outputs": [
    {
     "name": "stdout",
     "output_type": "stream",
     "text": [
      "Do you want to use it as a 1 or 11?0\n",
      "Must be a 1 or 11.\n",
      "Do you want to use it as a 1 or 11?4\n",
      "Must be a 1 or 11.\n",
      "Do you want to use it as a 1 or 11?3.2\n",
      "Invalid entry.\n",
      "Must be a 1 or 11.\n",
      "Do you want to use it as a 1 or 11?1as\n",
      "Invalid entry.\n",
      "Must be a 1 or 11.\n",
      "Do you want to use it as a 1 or 11?1.0\n",
      "Invalid entry.\n",
      "Must be a 1 or 11.\n",
      "Do you want to use it as a 1 or 11?11.0\n",
      "Invalid entry.\n",
      "Must be a 1 or 11.\n",
      "Do you want to use it as a 1 or 11?a\n",
      "Invalid entry.\n",
      "Must be a 1 or 11.\n",
      "Do you want to use it as a 1 or 11?b\n",
      "Invalid entry.\n",
      "Must be a 1 or 11.\n",
      "Do you want to use it as a 1 or 11?ds\n",
      "Invalid entry.\n",
      "Must be a 1 or 11.\n",
      "Do you want to use it as a 1 or 11?1asd\n",
      "Invalid entry.\n",
      "Must be a 1 or 11.\n",
      "Do you want to use it as a 1 or 11?11asdsad\n",
      "Invalid entry.\n",
      "Must be a 1 or 11.\n",
      "Do you want to use it as a 1 or 11?111\n",
      "Must be a 1 or 11.\n",
      "Do you want to use it as a 1 or 11?11\n"
     ]
    }
   ],
   "source": [
    "one.one_or_eleven()"
   ]
  },
  {
   "cell_type": "code",
   "execution_count": 82,
   "metadata": {},
   "outputs": [],
   "source": [
    "numbers = [\n",
    "    'ace',\n",
    "    'two',\n",
    "    'three',\n",
    "    'four',\n",
    "    'five',\n",
    "    'six',\n",
    "    'seven',\n",
    "    'eight',\n",
    "    'nine',\n",
    "    'ten',\n",
    "    'jack',\n",
    "    'queen',\n",
    "    'king'\n",
    "    ]\n",
    "\n",
    "suits = [\n",
    "    'clubs',\n",
    "    'diamonds',\n",
    "    'hearts',\n",
    "    'spades'\n",
    "    ]"
   ]
  },
  {
   "cell_type": "code",
   "execution_count": 83,
   "metadata": {},
   "outputs": [],
   "source": [
    "deck = []\n",
    "for suit in suits:\n",
    "    for number in numbers:\n",
    "        deck.append((suit,number))"
   ]
  },
  {
   "cell_type": "code",
   "execution_count": 84,
   "metadata": {},
   "outputs": [
    {
     "data": {
      "text/plain": [
       "[('clubs', 'ace'),\n",
       " ('clubs', 'two'),\n",
       " ('clubs', 'three'),\n",
       " ('clubs', 'four'),\n",
       " ('clubs', 'five'),\n",
       " ('clubs', 'six'),\n",
       " ('clubs', 'seven'),\n",
       " ('clubs', 'eight'),\n",
       " ('clubs', 'nine'),\n",
       " ('clubs', 'ten'),\n",
       " ('clubs', 'jack'),\n",
       " ('clubs', 'queen'),\n",
       " ('clubs', 'king'),\n",
       " ('diamonds', 'ace'),\n",
       " ('diamonds', 'two'),\n",
       " ('diamonds', 'three'),\n",
       " ('diamonds', 'four'),\n",
       " ('diamonds', 'five'),\n",
       " ('diamonds', 'six'),\n",
       " ('diamonds', 'seven'),\n",
       " ('diamonds', 'eight'),\n",
       " ('diamonds', 'nine'),\n",
       " ('diamonds', 'ten'),\n",
       " ('diamonds', 'jack'),\n",
       " ('diamonds', 'queen'),\n",
       " ('diamonds', 'king'),\n",
       " ('hearts', 'ace'),\n",
       " ('hearts', 'two'),\n",
       " ('hearts', 'three'),\n",
       " ('hearts', 'four'),\n",
       " ('hearts', 'five'),\n",
       " ('hearts', 'six'),\n",
       " ('hearts', 'seven'),\n",
       " ('hearts', 'eight'),\n",
       " ('hearts', 'nine'),\n",
       " ('hearts', 'ten'),\n",
       " ('hearts', 'jack'),\n",
       " ('hearts', 'queen'),\n",
       " ('hearts', 'king'),\n",
       " ('spades', 'ace'),\n",
       " ('spades', 'two'),\n",
       " ('spades', 'three'),\n",
       " ('spades', 'four'),\n",
       " ('spades', 'five'),\n",
       " ('spades', 'six'),\n",
       " ('spades', 'seven'),\n",
       " ('spades', 'eight'),\n",
       " ('spades', 'nine'),\n",
       " ('spades', 'ten'),\n",
       " ('spades', 'jack'),\n",
       " ('spades', 'queen'),\n",
       " ('spades', 'king')]"
      ]
     },
     "execution_count": 84,
     "metadata": {},
     "output_type": "execute_result"
    }
   ],
   "source": [
    "deck"
   ]
  },
  {
   "cell_type": "code",
   "execution_count": 89,
   "metadata": {},
   "outputs": [],
   "source": [
    "cards  = [\n",
    "    'ace',\n",
    "    'two',\n",
    "    'three',\n",
    "    'four',\n",
    "    'five',\n",
    "    'six',\n",
    "    'seven',\n",
    "    'eight',\n",
    "    'nine',\n",
    "    'ten',\n",
    "    'jack',\n",
    "    'queen',\n",
    "    'king'\n",
    "    ]\n",
    "\n",
    "suits = [\n",
    "    'clubs',\n",
    "    'diamonds',\n",
    "    'hearts',\n",
    "    'spades'\n",
    "    ]\n",
    "\n",
    "def generate_deck():\n",
    "    deck = []\n",
    "    for suit in suits:\n",
    "        for card in cards:\n",
    "            deck.append((suit,card))\n",
    "    return deck"
   ]
  },
  {
   "cell_type": "code",
   "execution_count": 92,
   "metadata": {},
   "outputs": [
    {
     "data": {
      "text/plain": [
       "[('clubs', 'ace'),\n",
       " ('clubs', 'two'),\n",
       " ('clubs', 'three'),\n",
       " ('clubs', 'four'),\n",
       " ('clubs', 'five'),\n",
       " ('clubs', 'six'),\n",
       " ('clubs', 'seven'),\n",
       " ('clubs', 'eight'),\n",
       " ('clubs', 'nine'),\n",
       " ('clubs', 'ten'),\n",
       " ('clubs', 'jack'),\n",
       " ('clubs', 'queen'),\n",
       " ('clubs', 'king'),\n",
       " ('diamonds', 'ace'),\n",
       " ('diamonds', 'two'),\n",
       " ('diamonds', 'three'),\n",
       " ('diamonds', 'four'),\n",
       " ('diamonds', 'five'),\n",
       " ('diamonds', 'six'),\n",
       " ('diamonds', 'seven'),\n",
       " ('diamonds', 'eight'),\n",
       " ('diamonds', 'nine'),\n",
       " ('diamonds', 'ten'),\n",
       " ('diamonds', 'jack'),\n",
       " ('diamonds', 'queen'),\n",
       " ('diamonds', 'king'),\n",
       " ('hearts', 'ace'),\n",
       " ('hearts', 'two'),\n",
       " ('hearts', 'three'),\n",
       " ('hearts', 'four'),\n",
       " ('hearts', 'five'),\n",
       " ('hearts', 'six'),\n",
       " ('hearts', 'seven'),\n",
       " ('hearts', 'eight'),\n",
       " ('hearts', 'nine'),\n",
       " ('hearts', 'ten'),\n",
       " ('hearts', 'jack'),\n",
       " ('hearts', 'queen'),\n",
       " ('hearts', 'king'),\n",
       " ('spades', 'ace'),\n",
       " ('spades', 'two'),\n",
       " ('spades', 'three'),\n",
       " ('spades', 'four'),\n",
       " ('spades', 'five'),\n",
       " ('spades', 'six'),\n",
       " ('spades', 'seven'),\n",
       " ('spades', 'eight'),\n",
       " ('spades', 'nine'),\n",
       " ('spades', 'ten'),\n",
       " ('spades', 'jack'),\n",
       " ('spades', 'queen'),\n",
       " ('spades', 'king')]"
      ]
     },
     "execution_count": 92,
     "metadata": {},
     "output_type": "execute_result"
    }
   ],
   "source": [
    "generate_deck()"
   ]
  },
  {
   "cell_type": "code",
   "execution_count": 93,
   "metadata": {},
   "outputs": [
    {
     "data": {
      "text/plain": [
       "52"
      ]
     },
     "execution_count": 93,
     "metadata": {},
     "output_type": "execute_result"
    }
   ],
   "source": [
    "len(generate_deck())"
   ]
  },
  {
   "cell_type": "code",
   "execution_count": null,
   "metadata": {},
   "outputs": [],
   "source": []
  }
 ],
 "metadata": {
  "kernelspec": {
   "display_name": "Python 3",
   "language": "python",
   "name": "python3"
  },
  "language_info": {
   "codemirror_mode": {
    "name": "ipython",
    "version": 3
   },
   "file_extension": ".py",
   "mimetype": "text/x-python",
   "name": "python",
   "nbconvert_exporter": "python",
   "pygments_lexer": "ipython3",
   "version": "3.7.1"
  }
 },
 "nbformat": 4,
 "nbformat_minor": 2
}
