{
 "cells": [
  {
   "cell_type": "code",
   "execution_count": 78,
   "metadata": {},
   "outputs": [],
   "source": [
    "class Player():\n",
    "\n",
    "    def __init__(self, bank_roll):\n",
    "        self.bank_roll = bank_roll\n",
    "\n",
    "\n",
    "    def place_bet(self):\n",
    "        try:\n",
    "            amount = int(input(\"How much do you want to bet? \"))\n",
    "            if (type(amount) == int) and (amount >= 0):\n",
    "                return amount\n",
    "        except:\n",
    "            print(\"Invalid entry. Must be a number.\")\n",
    "            self.place_bet()\n",
    "            \n",
    "            \n",
    "    def hit_or_stay(self):\n",
    "        choice = input(\"Do you want to hit or stay?\").lower()\n",
    "        if choice == 'hit':\n",
    "            return True\n",
    "        elif choice == 'stay':\n",
    "            return False\n",
    "        else:\n",
    "            print(\"Invalid entry.\")\n",
    "            self.hit_or_stay()\n",
    "            \n",
    "    def type_int(self,val):\n",
    "        try:\n",
    "            int(val)\n",
    "        except:\n",
    "            print(\"Invalid entry.\")\n",
    "        else:\n",
    "            return val\n",
    "            \n",
    "    def one_or_eleven(self):\n",
    "        ace_value = input(\"Do you want to use it as a 1 or 11?\")\n",
    "        if self.type_int(ace_value):\n",
    "            ace = int(ace_value)\n",
    "            if (ace == 1) or (ace == 11):\n",
    "                return ace\n",
    "            else:\n",
    "                print(\"Must be a 1 or 11.\")\n",
    "                self.one_or_eleven()\n",
    "        else:\n",
    "            print(\"Must be a 1 or 11.\")\n",
    "            self.one_or_eleven()\n",
    "            \n",
    "                \n",
    "            \n",
    "            \n",
    "        \n",
    "    "
   ]
  },
  {
   "cell_type": "code",
   "execution_count": 79,
   "metadata": {},
   "outputs": [],
   "source": [
    "one = Player(100)"
   ]
  },
  {
   "cell_type": "code",
   "execution_count": 29,
   "metadata": {},
   "outputs": [
    {
     "name": "stdout",
     "output_type": "stream",
     "text": [
      "How much do you want to bet? a\n",
      "Invalid entry. Must be a number.\n",
      "How much do you want to bet? asds\n",
      "Invalid entry. Must be a number.\n",
      "How much do you want to bet? g\n",
      "Invalid entry. Must be a number.\n",
      "How much do you want to bet? sd\n",
      "Invalid entry. Must be a number.\n",
      "How much do you want to bet? 1ads\n",
      "Invalid entry. Must be a number.\n",
      "How much do you want to bet? asd2\n",
      "Invalid entry. Must be a number.\n",
      "How much do you want to bet? 2.34\n",
      "Invalid entry. Must be a number.\n",
      "How much do you want to bet? 0\n"
     ]
    }
   ],
   "source": [
    "one.place_bet()"
   ]
  },
  {
   "cell_type": "code",
   "execution_count": null,
   "metadata": {},
   "outputs": [],
   "source": []
  },
  {
   "cell_type": "code",
   "execution_count": 9,
   "metadata": {},
   "outputs": [
    {
     "data": {
      "text/plain": [
       "int"
      ]
     },
     "execution_count": 9,
     "metadata": {},
     "output_type": "execute_result"
    }
   ],
   "source": [
    "type(4)"
   ]
  },
  {
   "cell_type": "code",
   "execution_count": 10,
   "metadata": {},
   "outputs": [
    {
     "data": {
      "text/plain": [
       "float"
      ]
     },
     "execution_count": 10,
     "metadata": {},
     "output_type": "execute_result"
    }
   ],
   "source": [
    "type(-3.3)"
   ]
  },
  {
   "cell_type": "code",
   "execution_count": null,
   "metadata": {},
   "outputs": [],
   "source": []
  },
  {
   "cell_type": "code",
   "execution_count": null,
   "metadata": {},
   "outputs": [],
   "source": []
  },
  {
   "cell_type": "code",
   "execution_count": 11,
   "metadata": {},
   "outputs": [
    {
     "name": "stdout",
     "output_type": "stream",
     "text": [
      "Do you want to hit or stay?asd\n",
      "Invalid entry.\n",
      "Do you want to hit or stay?afsf\n",
      "Invalid entry.\n",
      "Do you want to hit or stay?sdas\n",
      "Invalid entry.\n",
      "Do you want to hit or stay?hit\n"
     ]
    }
   ],
   "source": [
    "one.hit_or_stay()"
   ]
  },
  {
   "cell_type": "code",
   "execution_count": 12,
   "metadata": {},
   "outputs": [
    {
     "name": "stdout",
     "output_type": "stream",
     "text": [
      "Do you want to hit or stay?adksd\n",
      "Invalid entry.\n",
      "Do you want to hit or stay?hitt\n",
      "Invalid entry.\n",
      "Do you want to hit or stay?staya\n",
      "Invalid entry.\n",
      "Do you want to hit or stay?stay\n"
     ]
    }
   ],
   "source": [
    "one.hit_or_stay()"
   ]
  },
  {
   "cell_type": "code",
   "execution_count": 15,
   "metadata": {},
   "outputs": [
    {
     "data": {
      "text/plain": [
       "100"
      ]
     },
     "execution_count": 15,
     "metadata": {},
     "output_type": "execute_result"
    }
   ],
   "source": [
    "one.bank_roll"
   ]
  },
  {
   "cell_type": "code",
   "execution_count": 17,
   "metadata": {},
   "outputs": [
    {
     "name": "stdout",
     "output_type": "stream",
     "text": [
      "Do you want to hit or stay?hit\n"
     ]
    },
    {
     "data": {
      "text/plain": [
       "True"
      ]
     },
     "execution_count": 17,
     "metadata": {},
     "output_type": "execute_result"
    }
   ],
   "source": [
    "one.hit_or_stay()"
   ]
  },
  {
   "cell_type": "code",
   "execution_count": 18,
   "metadata": {},
   "outputs": [
    {
     "name": "stdout",
     "output_type": "stream",
     "text": [
      "Do you want to hit or stay?hit\n",
      "ASKED TO HIT A CARD\n"
     ]
    }
   ],
   "source": [
    "if one.hit_or_stay():\n",
    "    print(\"ASKED TO HIT A CARD\")\n",
    "else:\n",
    "    print(\"ASKED TO STAY\")"
   ]
  },
  {
   "cell_type": "code",
   "execution_count": 19,
   "metadata": {},
   "outputs": [
    {
     "name": "stdout",
     "output_type": "stream",
     "text": [
      "Do you want to hit or stay?stay\n",
      "ASKED TO STAY\n"
     ]
    }
   ],
   "source": [
    "if one.hit_or_stay():\n",
    "    print(\"ASKED TO HIT A CARD\")\n",
    "else:\n",
    "    print(\"ASKED TO STAY\")"
   ]
  },
  {
   "cell_type": "code",
   "execution_count": 80,
   "metadata": {},
   "outputs": [
    {
     "name": "stdout",
     "output_type": "stream",
     "text": [
      "Do you want to use it as a 1 or 11?a\n",
      "Invalid entry.\n",
      "Must be a 1 or 11.\n",
      "Do you want to use it as a 1 or 11?f\n",
      "Invalid entry.\n",
      "Must be a 1 or 11.\n",
      "Do you want to use it as a 1 or 11?111\n",
      "Must be a 1 or 11.\n",
      "Do you want to use it as a 1 or 11?12\n",
      "Must be a 1 or 11.\n",
      "Do you want to use it as a 1 or 11?3.4\n",
      "Invalid entry.\n",
      "Must be a 1 or 11.\n",
      "Do you want to use it as a 1 or 11?1.0\n",
      "Invalid entry.\n",
      "Must be a 1 or 11.\n",
      "Do you want to use it as a 1 or 11?1\n"
     ]
    }
   ],
   "source": [
    "one.one_or_eleven()"
   ]
  },
  {
   "cell_type": "code",
   "execution_count": 81,
   "metadata": {},
   "outputs": [
    {
     "name": "stdout",
     "output_type": "stream",
     "text": [
      "Do you want to use it as a 1 or 11?0\n",
      "Must be a 1 or 11.\n",
      "Do you want to use it as a 1 or 11?4\n",
      "Must be a 1 or 11.\n",
      "Do you want to use it as a 1 or 11?3.2\n",
      "Invalid entry.\n",
      "Must be a 1 or 11.\n",
      "Do you want to use it as a 1 or 11?1as\n",
      "Invalid entry.\n",
      "Must be a 1 or 11.\n",
      "Do you want to use it as a 1 or 11?1.0\n",
      "Invalid entry.\n",
      "Must be a 1 or 11.\n",
      "Do you want to use it as a 1 or 11?11.0\n",
      "Invalid entry.\n",
      "Must be a 1 or 11.\n",
      "Do you want to use it as a 1 or 11?a\n",
      "Invalid entry.\n",
      "Must be a 1 or 11.\n",
      "Do you want to use it as a 1 or 11?b\n",
      "Invalid entry.\n",
      "Must be a 1 or 11.\n",
      "Do you want to use it as a 1 or 11?ds\n",
      "Invalid entry.\n",
      "Must be a 1 or 11.\n",
      "Do you want to use it as a 1 or 11?1asd\n",
      "Invalid entry.\n",
      "Must be a 1 or 11.\n",
      "Do you want to use it as a 1 or 11?11asdsad\n",
      "Invalid entry.\n",
      "Must be a 1 or 11.\n",
      "Do you want to use it as a 1 or 11?111\n",
      "Must be a 1 or 11.\n",
      "Do you want to use it as a 1 or 11?11\n"
     ]
    }
   ],
   "source": [
    "one.one_or_eleven()"
   ]
  },
  {
   "cell_type": "code",
   "execution_count": 48,
   "metadata": {},
   "outputs": [
    {
     "data": {
      "text/plain": [
       "str"
      ]
     },
     "execution_count": 48,
     "metadata": {},
     "output_type": "execute_result"
    }
   ],
   "source": [
    "type(a)"
   ]
  },
  {
   "cell_type": "code",
   "execution_count": 49,
   "metadata": {},
   "outputs": [
    {
     "data": {
      "text/plain": [
       "int"
      ]
     },
     "execution_count": 49,
     "metadata": {},
     "output_type": "execute_result"
    }
   ],
   "source": [
    "type(int(a))"
   ]
  },
  {
   "cell_type": "code",
   "execution_count": 50,
   "metadata": {},
   "outputs": [
    {
     "data": {
      "text/plain": [
       "str"
      ]
     },
     "execution_count": 50,
     "metadata": {},
     "output_type": "execute_result"
    }
   ],
   "source": [
    "type(a)"
   ]
  },
  {
   "cell_type": "code",
   "execution_count": null,
   "metadata": {},
   "outputs": [],
   "source": []
  }
 ],
 "metadata": {
  "kernelspec": {
   "display_name": "Python 3",
   "language": "python",
   "name": "python3"
  },
  "language_info": {
   "codemirror_mode": {
    "name": "ipython",
    "version": 3
   },
   "file_extension": ".py",
   "mimetype": "text/x-python",
   "name": "python",
   "nbconvert_exporter": "python",
   "pygments_lexer": "ipython3",
   "version": "3.7.1"
  }
 },
 "nbformat": 4,
 "nbformat_minor": 2
}
